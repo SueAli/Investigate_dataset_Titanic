{
 "cells": [
  {
   "cell_type": "markdown",
   "metadata": {},
   "source": [
    "## Project Description\n",
    "This project involves the use of NumPy, Pandas, MatPlotlib, and Python to analyze <a href=\"./titanic_data.csv\"> Titanic</a> dataset. It also shows how to conduct data analysis process by:\n",
    "1- Defining the Question you want to answer by analyzing the data<br/>\n",
    "2- Data Wrangling: investigate the data and clean it<br/>\n",
    "3- Data Exploration: build intuition  about the data and find patterns <br/>\n",
    "4- Drawing conclusion: make predictions based on the done analysis<br/>\n",
    "5- Communicate the findings <br/>"
   ]
  },
  {
   "cell_type": "markdown",
   "metadata": {},
   "source": [
    "##  Questions to answer about Titanic data set:\n",
    "- What factors made people more likely to survive?\n",
    "- Were men more likely to survive than women?\n",
    "- What is the common age for survived people?\n",
    "\n",
    "\n"
   ]
  },
  {
   "cell_type": "markdown",
   "metadata": {},
   "source": [
    "## Data wrangling phase "
   ]
  },
  {
   "cell_type": "code",
   "execution_count": 2,
   "metadata": {
    "collapsed": false
   },
   "outputs": [
    {
     "name": "stdout",
     "output_type": "stream",
     "text": [
      "________________Cloumns Values Count_______________\n",
      "PassengerId    891\n",
      "Survived       891\n",
      "Pclass         891\n",
      "Name           891\n",
      "Sex            891\n",
      "Age            714\n",
      "SibSp          891\n",
      "Parch          891\n",
      "Ticket         891\n",
      "Fare           891\n",
      "Cabin          204\n",
      "Embarked       889\n",
      "dtype: int64\n",
      "_________________________________________________\n"
     ]
    }
   ],
   "source": [
    "# First: Load the data into appropriate data structure\n",
    "import numpy as np\n",
    "import pandas as pd\n",
    "titanic_df = pd.read_csv('titanic_data.csv')\n",
    "#------------------------------------------------------------------------------------\n",
    "#Second: Investigate the data and define the problems with it \n",
    "##let's start by checking each varible values and thinking about its valid values \n",
    "##By using the count function, We can see th \n",
    "\n",
    "total_rows_count = titanic_df.shape[0] # Total data rows count\n",
    "#print total_rows_count\n",
    "print \"________________Cloumns Values Count_______________\"\n",
    "print titanic_df.count() # Count function excludes the NAN values\n",
    "print \"_________________________________________________\""
   ]
  },
  {
   "cell_type": "code",
   "execution_count": 3,
   "metadata": {
    "collapsed": false,
    "scrolled": true
   },
   "outputs": [
    {
     "name": "stdout",
     "output_type": "stream",
     "text": [
      "PassengerId    891\n",
      "Survived       891\n",
      "Pclass         891\n",
      "Sex            891\n",
      "Age            714\n",
      "SibSp          891\n",
      "Parch          891\n",
      "Fare           891\n",
      "Cabin          204\n",
      "dtype: int64\n"
     ]
    }
   ],
   "source": [
    "### At the begining, let's delete all columns that we are not interested in our analysis\n",
    "#### Columns to be deleted are: Embarked, Name, and Ticket.\n",
    "titanic_df.drop(['Name', 'Embarked','Ticket'], axis=1, inplace=True)\n",
    "print titanic_df.count()"
   ]
  },
  {
   "cell_type": "markdown",
   "metadata": {},
   "source": [
    "## Problems with data: \n",
    "- Cabin: is missing for 77% of  passengers data, So I will exclude it from the data\n",
    "- Age: is missing for 20% of passengers, I can't assume they have 0 years as age so I will exclude all passenger with unknown age from my data\n",
    "\n",
    "## Suggested Solution:\n",
    "I chose to omit all passengers with missing field values. This choice have some pros & cons: \n",
    "- Pros:\n",
    "    - The data will be consistent, no hidden assumptions, and less problems with data calculations.  \n",
    "- Cons:\n",
    "    - Removing some entities from the data may mislead the analysis we are doing. For example, age is missing for 20% of pessengers and let's assume all of them were males, removing them might affect our conclusion and final findings about the data. Some data patterns may extremly change into the opposite direction because of data omitting. \n"
   ]
  },
  {
   "cell_type": "code",
   "execution_count": 4,
   "metadata": {
    "collapsed": false
   },
   "outputs": [
    {
     "name": "stdout",
     "output_type": "stream",
     "text": [
      "PassengerId       1\n",
      "Survived          0\n",
      "Pclass            3\n",
      "Sex            male\n",
      "Age              22\n",
      "SibSp             1\n",
      "Parch             0\n",
      "Fare           7.25\n",
      "Name: 0, dtype: object\n"
     ]
    }
   ],
   "source": [
    "### Cabin: is missing for 77% of  passengers data, So I will exclude it from the data \n",
    "titanic_df.drop(['Cabin'],axis=1, inplace=True)\n",
    "print titanic_df.iloc[0]"
   ]
  },
  {
   "cell_type": "code",
   "execution_count": 5,
   "metadata": {
    "collapsed": false
   },
   "outputs": [
    {
     "name": "stdout",
     "output_type": "stream",
     "text": [
      "PassengerId    714\n",
      "Survived       714\n",
      "Pclass         714\n",
      "Sex            714\n",
      "Age            714\n",
      "SibSp          714\n",
      "Parch          714\n",
      "Fare           714\n",
      "dtype: int64\n",
      "714\n"
     ]
    }
   ],
   "source": [
    "### Age: is missing for 20% of pessengers, I can't assume they have 0 years as age so I will \n",
    "###      exclude all passenger with unknown age from my data\n",
    "titanic_df = titanic_df[ np.isnan(titanic_df['Age']) != True]\n",
    "for index, passenger in titanic_df.iterrows():\n",
    "    if np.isnan(passenger['Age']) == True:\n",
    "        print passenger\n",
    "        print \"____\"\n",
    "print titanic_df.count()\n",
    "print titanic_df['Survived'].count()"
   ]
  },
  {
   "cell_type": "markdown",
   "metadata": {},
   "source": [
    "Before we start answering the questions, let's explore different patterns in our data by showing the histograms for our variables:\n",
    "- Dependent Variable is represented in 'Survived' column \n",
    "- independent Variables are represented in  'Sex', 'Pclass','Age',and 'Fare'\n"
   ]
  },
  {
   "cell_type": "code",
   "execution_count": 95,
   "metadata": {
    "collapsed": false
   },
   "outputs": [
    {
     "data": {
      "text/plain": [
       "<matplotlib.text.Text at 0x11da786d0>"
      ]
     },
     "execution_count": 95,
     "metadata": {},
     "output_type": "execute_result"
    },
    {
     "data": {
      "image/png": "[encoded data removed]",
      "text/plain": [
       "<matplotlib.figure.Figure at 0x11a335c90>"
      ]
     },
     "metadata": {},
     "output_type": "display_data"
    }
   ],
   "source": [
    "### Survived histogram \n",
    "### in our data sample, the below histogram shows that more passengers weren't survived \n",
    "%matplotlib inline\n",
    "import matplotlib.pyplot as plt\n",
    "def label_survival(row):\n",
    "    if int(row['Survived']) == 1:\n",
    "        return \"Survived\"\n",
    "    else:\n",
    "        return \"Not-Survived\"\n",
    "    \n",
    "titanic_df['Survival_Flag'] = titanic_df.apply(label_survival,axis=1)\n",
    "\n",
    "#print titanic_df['Survived'].describe() \n",
    "Survival_counts = Counter(titanic_df['Survival_Flag'])\n",
    "Survival_df = pd.DataFrame.from_dict(Survival_counts,orient='index')\n",
    "Survival_plt= Survival_df.plot(kind='bar', title=\"Survived vs. Not-Survived frequencies\",alpha=0.75, rot=0,legend=None)\n",
    "plt.xlabel(\"Passengers\")\n",
    "plt.ylabel(\"Frequency Count\")"
   ]
  },
  {
   "cell_type": "code",
   "execution_count": 91,
   "metadata": {
    "collapsed": false
   },
   "outputs": [
    {
     "name": "stdout",
     "output_type": "stream",
     "text": [
      "Counter({'male': 453, 'female': 261})\n"
     ]
    },
    {
     "data": {
      "text/plain": [
       "<matplotlib.text.Text at 0x11d0c4c90>"
      ]
     },
     "execution_count": 91,
     "metadata": {},
     "output_type": "execute_result"
    },
    {
     "data": {
      "image/png": "[encoded data removed]",
      "text/plain": [
       "<matplotlib.figure.Figure at 0x119fa8910>"
      ]
     },
     "metadata": {},
     "output_type": "display_data"
    }
   ],
   "source": [
    "### Sex histogram \n",
    "#### As we see in the below histogram the males count is abount the double of the females count in\n",
    "#### the sample data\n",
    "from collections import Counter\n",
    "#Count the sex occurence to plot the frequency \n",
    "sex_counts = Counter(titanic_df['Sex'])\n",
    "print sex_counts\n",
    "sex_df = pd.DataFrame.from_dict(sex_counts, orient='index')\n",
    "sex_df.plot(kind='bar',title=\"Titanic Passengers' Sex Frequency\", rot=0, alpha=0.75,legend=None )\n",
    "plt.xlabel(\"Passengers\")\n",
    "plt.ylabel(\"Frequency Count\")"
   ]
  },
  {
   "cell_type": "code",
   "execution_count": 90,
   "metadata": {
    "collapsed": false
   },
   "outputs": [
    {
     "data": {
      "text/plain": [
       "<matplotlib.text.Text at 0x11cd05050>"
      ]
     },
     "execution_count": 90,
     "metadata": {},
     "output_type": "execute_result"
    },
    {
     "data": {
      "image/png": "[encoded data removed]",
      "text/plain": [
       "<matplotlib.figure.Figure at 0x119a41610>"
      ]
     },
     "metadata": {},
     "output_type": "display_data"
    }
   ],
   "source": [
    "### Pclass histogram \n",
    "#### The below histogram shows that 3rd class passengers represents about the half of our data\n",
    "pclass_counts = Counter(titanic_df['Pclass'])\n",
    "pclass_df = pd.DataFrame.from_dict(pclass_counts,orient='index')\n",
    "pclass_plt= pclass_df.plot(kind='bar', title=\"Passenger Class Frequency\",alpha=0.75,rot=0, legend=None)\n",
    "pclass_plt.set_xlabel(\"Passengers' Class\")\n",
    "pclass_plt.set_ylabel(\"Frequency Count\")"
   ]
  },
  {
   "cell_type": "code",
   "execution_count": 68,
   "metadata": {
    "collapsed": false
   },
   "outputs": [
    {
     "name": "stdout",
     "output_type": "stream",
     "text": [
      "______Passengers' Fare Statistics______________\n",
      "count    714.000000\n",
      "mean      34.694514\n",
      "std       52.918930\n",
      "min        0.000000\n",
      "25%        8.050000\n",
      "50%       15.741700\n",
      "75%       33.375000\n",
      "max      512.329200\n",
      "Name: Fare, dtype: float64\n"
     ]
    }
   ],
   "source": [
    "### Fare histogram \n",
    "print (\"______Passengers' Fare Statistics______________\")\n",
    "print titanic_df['Fare'].describe()\n"
   ]
  },
  {
   "cell_type": "markdown",
   "metadata": {},
   "source": [
    "As the minimum fare value is 0.0, I think there might be something wrong here. I didn't expect to find passengers having 0 fare value, so let's see those passengers' info in the following block. I will not remove those passengers from my sample as they represents a part of the population."
   ]
  },
  {
   "cell_type": "code",
   "execution_count": 69,
   "metadata": {
    "collapsed": false
   },
   "outputs": [
    {
     "name": "stdout",
     "output_type": "stream",
     "text": [
      "PassengerId               180\n",
      "Survived                    0\n",
      "Pclass                      3\n",
      "Sex                      male\n",
      "Age                        36\n",
      "SibSp                       0\n",
      "Parch                       0\n",
      "Fare                        0\n",
      "Survival_Flag    Not-Survived\n",
      "Name: 179, dtype: object\n",
      "----------------------------------------------\n",
      "PassengerId               264\n",
      "Survived                    0\n",
      "Pclass                      1\n",
      "Sex                      male\n",
      "Age                        40\n",
      "SibSp                       0\n",
      "Parch                       0\n",
      "Fare                        0\n",
      "Survival_Flag    Not-Survived\n",
      "Name: 263, dtype: object\n",
      "----------------------------------------------\n",
      "PassengerId           272\n",
      "Survived                1\n",
      "Pclass                  3\n",
      "Sex                  male\n",
      "Age                    25\n",
      "SibSp                   0\n",
      "Parch                   0\n",
      "Fare                    0\n",
      "Survival_Flag    Survived\n",
      "Name: 271, dtype: object\n",
      "----------------------------------------------\n",
      "PassengerId               303\n",
      "Survived                    0\n",
      "Pclass                      3\n",
      "Sex                      male\n",
      "Age                        19\n",
      "SibSp                       0\n",
      "Parch                       0\n",
      "Fare                        0\n",
      "Survival_Flag    Not-Survived\n",
      "Name: 302, dtype: object\n",
      "----------------------------------------------\n",
      "PassengerId               598\n",
      "Survived                    0\n",
      "Pclass                      3\n",
      "Sex                      male\n",
      "Age                        49\n",
      "SibSp                       0\n",
      "Parch                       0\n",
      "Fare                        0\n",
      "Survival_Flag    Not-Survived\n",
      "Name: 597, dtype: object\n",
      "----------------------------------------------\n",
      "PassengerId               807\n",
      "Survived                    0\n",
      "Pclass                      1\n",
      "Sex                      male\n",
      "Age                        39\n",
      "SibSp                       0\n",
      "Parch                       0\n",
      "Fare                        0\n",
      "Survival_Flag    Not-Survived\n",
      "Name: 806, dtype: object\n",
      "----------------------------------------------\n",
      "PassengerId               823\n",
      "Survived                    0\n",
      "Pclass                      1\n",
      "Sex                      male\n",
      "Age                        38\n",
      "SibSp                       0\n",
      "Parch                       0\n",
      "Fare                        0\n",
      "Survival_Flag    Not-Survived\n",
      "Name: 822, dtype: object\n",
      "----------------------------------------------\n",
      "PassengerId           259\n",
      "Survived                1\n",
      "Pclass                  1\n",
      "Sex                female\n",
      "Age                    35\n",
      "SibSp                   0\n",
      "Parch                   0\n",
      "Fare              512.329\n",
      "Survival_Flag    Survived\n",
      "Name: 258, dtype: object\n",
      "----------------------------------------------\n",
      "PassengerId           680\n",
      "Survived                1\n",
      "Pclass                  1\n",
      "Sex                  male\n",
      "Age                    36\n",
      "SibSp                   0\n",
      "Parch                   1\n",
      "Fare              512.329\n",
      "Survival_Flag    Survived\n",
      "Name: 679, dtype: object\n",
      "----------------------------------------------\n",
      "PassengerId           738\n",
      "Survived                1\n",
      "Pclass                  1\n",
      "Sex                  male\n",
      "Age                    35\n",
      "SibSp                   0\n",
      "Parch                   0\n",
      "Fare              512.329\n",
      "Survival_Flag    Survived\n",
      "Name: 737, dtype: object\n",
      "----------------------------------------------\n"
     ]
    }
   ],
   "source": [
    "for index, passenger in titanic_df.iterrows():\n",
    "    if passenger['Fare'] == 0:\n",
    "        print passenger\n",
    "        print \"----------------------------------------------\"\n",
    "for index, passenger in titanic_df.iterrows():\n",
    "    if passenger['Fare'] >= 500.0:\n",
    "        print passenger\n",
    "        print \"----------------------------------------------\""
   ]
  },
  {
   "cell_type": "code",
   "execution_count": 127,
   "metadata": {
    "collapsed": false
   },
   "outputs": [
    {
     "name": "stdout",
     "output_type": "stream",
     "text": [
      "AS we see in the below histogram, the distribution is rightly skewed where the mean is less than 50. Passengers\n",
      "withfare's value greater than $400 will not be omitted. Because, they represent 1st class passengers info that \n",
      "we want to explore.\n"
     ]
    },
    {
     "data": {
      "image/png": "[encoded data removed]",
      "text/plain": [
       "<matplotlib.figure.Figure at 0x124b1d090>"
      ]
     },
     "metadata": {},
     "output_type": "display_data"
    }
   ],
   "source": [
    "fare_fig = plt.figure(figsize=(10, 6))\n",
    "fare_fig.suptitle(\"Passengers fare prices distribution\",fontweight='bold')\n",
    "ax=fare_fig.add_subplot(111)\n",
    "ax.hist(titanic_df['Fare'],alpha=0.75)\n",
    "ax.set_xlabel('Fare Price')\n",
    "ax.set_ylabel('Frquency Count')\n",
    "ax.set_xticks([0,50,100,150,200,250,300,350,400,450,500,550,600,650])      \n",
    "ax.text(0.1, 0.8, r'Mean',\n",
    "        horizontalalignment='right',\n",
    "        verticalalignment='top',   transform=ax.transAxes, color = 'red' , fontsize='15')\n",
    "\n",
    "plt.axvline(titanic_df['Fare'].mean(), color='r', linestyle='dashed', linewidth=2)\n",
    "\n",
    "print \"AS we see in the below histogram, the distribution is rightly skewed where the mean is less than 50. Passengers\"\n",
    "print \"withfare's value greater than $400 will not be omitted. Because, they represent 1st class passengers info that \"\n",
    "print \"we want to explore.\"\n",
    "## AS we see in the below histogram, the distribution is rightly skewed where the mean is less than 50. Passengers with\n",
    "## fare's value greater than $400 will not be omitted. Because, they represent 1st class passengers info that we want \n",
    "## to explore."
   ]
  },
  {
   "cell_type": "markdown",
   "metadata": {},
   "source": [
    "# Date Exploration \n",
    "After cleansing the data, let's explore the data patterns and find the expected relations between variables that answer the following questions:\n",
    "- Are most survived people males or females?\n",
    "- What is the sex of the majority of survived people?\n",
    "- Are 1st class passengers more likely to survive than others?\n",
    "\n",
    "To answer the questions above: \n"
   ]
  },
  {
   "cell_type": "code",
   "execution_count": 76,
   "metadata": {
    "collapsed": true
   },
   "outputs": [],
   "source": [
    "## This function will be used in displaying variables statistics\n",
    "def show_var_mean(df, var):\n",
    "    print  \"The avgerage %s of all femals on board is: %s\"% (var,np.around(df[var].mean()))\n",
    "    print  \"The avgerage %s of survived females is: %s\"% (var, np.around(df[df['Survived']==1]['Age'].mean()))"
   ]
  },
  {
   "cell_type": "code",
   "execution_count": 94,
   "metadata": {
    "collapsed": false
   },
   "outputs": [
    {
     "name": "stdout",
     "output_type": "stream",
     "text": [
      "Proportion of survived females is 0.754789272031 \n",
      "Proportion of survived males is 0.205298013245 \n"
     ]
    },
    {
     "data": {
      "image/png": "[encoded data removed]",
      "text/plain": [
       "<matplotlib.figure.Figure at 0x11b8b2d10>"
      ]
     },
     "metadata": {},
     "output_type": "display_data"
    }
   ],
   "source": [
    "#### First: I will try to find,  is there a relation between the passenger sex and the probability of being survived. \n",
    "#plt.bar(titanic_df['Survived'], sex_counts)\n",
    "#sex_df.plot(kind='bar',title=\"Passengers' Sex Frequency\" )\n",
    "df_groupedBy_sex = titanic_df.groupby(['Survived','Sex'])['Survived'].count().unstack()\n",
    "df_groupedBy_sex.plot(kind='bar', stacked=True, title='Survived people categorized by gender',rot=0,alpha=0.75)\n",
    "plt.xlabel(\"Survived Passengers\")\n",
    "plt.ylabel(\"Frequency Count\")\n",
    "females_on_board = df_groupedBy_sex['female'].sum()\n",
    "males_on_board = df_groupedBy_sex['male'].sum()\n",
    "females_survived_count= df_groupedBy_sex['female'][1]\n",
    "males_survived_count = df_groupedBy_sex['male'][1]\n",
    "proportion_females_survived = float(females_survived_count) / females_on_board\n",
    "propotion_males_survived = float(males_survived_count) / males_on_board\n",
    "\n",
    "print \"Proportion of survived females is %s \" %proportion_females_survived\n",
    "print \"Proportion of survived males is %s \" %propotion_males_survived\n",
    " "
   ]
  },
  {
   "cell_type": "markdown",
   "metadata": {},
   "source": [
    "From the above stack bar chart, we can say that females are more likely to survive that males."
   ]
  },
  {
   "cell_type": "markdown",
   "metadata": {
    "collapsed": false
   },
   "source": [
    "Second: After assuming that females are more likely to survive, let's use another variable 'Pclass' and see how it affects the survival probability. \n"
   ]
  },
  {
   "cell_type": "code",
   "execution_count": 93,
   "metadata": {
    "collapsed": false
   },
   "outputs": [
    {
     "name": "stdout",
     "output_type": "stream",
     "text": [
      " -------------females on board: Fare startistics----------\n",
      "The avgerage Fare of all femals on board is: 48.0\n",
      "The avgerage Fare of survived females is: 29.0\n"
     ]
    },
    {
     "data": {
      "image/png": "[encoded data removed]",
      "text/plain": [
       "<matplotlib.figure.Figure at 0x11d61aa90>"
      ]
     },
     "metadata": {},
     "output_type": "display_data"
    }
   ],
   "source": [
    "## ----- Exclude the males from the data  and analyze females data only as based on our assumption.\n",
    "females_on_board_df = titanic_df[titanic_df['Sex']=='female'].copy()\n",
    "females_on_board_df.reset_index(inplace=True)\n",
    "females_on_board_df.drop(['index'],inplace=True,axis=1)\n",
    "#print females_on_board_df.columns.values\n",
    "#del females_on_board_df(['index'])\n",
    "#females_on_board_df.count()\n",
    "## ----- Now split the females record into groups based on fare value\n",
    "######## The fare will be categorized into 4 categories , $0-$9, $10-$19, $20-$29, >= $30\n",
    "\n",
    "def generate_fare_category(row):\n",
    "    if row['Fare'] <= 9:\n",
    "        return '0-9'\n",
    "    elif row['Fare'] <= 19:\n",
    "        return '10-19'\n",
    "    elif row['Fare'] <= 29:\n",
    "        return '20-29'\n",
    "    else:\n",
    "        return '>=30'\n",
    "    \n",
    "females_on_board_df['FareCategory'] = females_on_board_df.apply(generate_fare_category,axis=1)\n",
    "females_groupBy_fareCat  = females_on_board_df.groupby(['Survived','FareCategory'])['Survived'].count().unstack()\n",
    "females_groupBy_fareCat.plot(kind='bar',stacked='True', title='Females on board catiegorized by fair value',rot=0,alpha=0.75)\n",
    "plt.xlabel(\"Survived Passengers\")\n",
    "plt.ylabel(\"Frequency Count\")\n",
    "print \" -------------females on board: Fare startistics----------\"\n",
    "show_var_mean(females_on_board_df,'Fare')"
   ]
  },
  {
   "cell_type": "markdown",
   "metadata": {
    "collapsed": true
   },
   "source": [
    "The average fare value for women on board is $48.0 . Also, the above bar chart shows that the highest proportion of  survived females had paid fare greater than or equal to $30. The values could change if we changed the fare categories ranges."
   ]
  },
  {
   "cell_type": "markdown",
   "metadata": {},
   "source": [
    "Third: Let's see the average age for survived females "
   ]
  },
  {
   "cell_type": "code",
   "execution_count": 96,
   "metadata": {
    "collapsed": false
   },
   "outputs": [
    {
     "name": "stdout",
     "output_type": "stream",
     "text": [
      "------------- Females : Age staitistics----------\n",
      "The avgerage Age of all femals on board is: 28.0\n",
      "The avgerage Age of survived females is: 29.0\n"
     ]
    },
    {
     "data": {
      "text/plain": [
       "<matplotlib.text.Text at 0x11ddf68d0>"
      ]
     },
     "execution_count": 96,
     "metadata": {},
     "output_type": "execute_result"
    },
    {
     "data": {
      "image/png": "[encoded data removed]",
      "text/plain": [
       "<matplotlib.figure.Figure at 0x11c26bad0>"
      ]
     },
     "metadata": {},
     "output_type": "display_data"
    }
   ],
   "source": [
    "## What is the average age for survived females \n",
    "print \"------------- Females : Age staitistics----------\"\n",
    "def generate_age_category(row):\n",
    "    if row['Age'] < 5:\n",
    "        return 'Toddler'\n",
    "    elif row['Age'] < 10:\n",
    "        return 'Child'\n",
    "    elif row['Age'] < 19:\n",
    "        return 'Teenager'\n",
    "    elif row['Age'] <= 29:\n",
    "        return '20s'\n",
    "    elif row['Age'] <= 39:\n",
    "        return '30s'\n",
    "    elif row['Age'] <= 49:\n",
    "        return '40s'\n",
    "    elif row['Age'] <= 59:\n",
    "        return '50s'\n",
    "    elif row ['Age'] <= 69:\n",
    "        return '60s'\n",
    "    else:\n",
    "        return '>= 70'\n",
    "\n",
    "show_var_mean(females_on_board_df,'Age')\n",
    "females_on_board_df['AgeCategory'] = females_on_board_df.apply(generate_age_category,axis=1)\n",
    "females_on_board_df.head(n=3)\n",
    "females_groupby_age = females_on_board_df.groupby(['Survival_Flag','AgeCategory'])['Survival_Flag'].count().unstack()\n",
    "females_groupby_age.plot(kind='Bar',figsize=(15,8),title=\"Females on board categorized age\",rot=0,alpha=0.7)\n",
    "plt.xlabel(\"Females Passengers\")\n",
    "plt.ylabel(\"Frequency Count\")"
   ]
  },
  {
   "cell_type": "markdown",
   "metadata": {},
   "source": [
    "The average age for all females on board is about 28 years old and the average of age for survived females is 29 years. Also, the above age bar chart shows that most of survived females are in 20s or 30s of age."
   ]
  },
  {
   "cell_type": "markdown",
   "metadata": {},
   "source": [
    "# Conclusion:\n",
    "\n",
    "While exploring the data, some limitations was found such as:\n",
    "- We don't have all pessengers data, we only have 891 data point out of  2,224.\n",
    "- Some attributes such as Age & Cabin had missing values.\n",
    "- Some data points was removed as a result of having missing values which reduce our data points to 714 data point.\n",
    "\n",
    "After analyzing  Titanic data set of 714 data point, we can conclude that:\n",
    "- The women are more likely to survive than men as survived women percent is greater than the men percent.\n",
    "- The main characteristics for survived women:\n",
    "    -they are more likely to be in 20s and 30's of age\n",
    "    -they are More likely to pay fair around $29 \n",
    "\n",
    "Note: We can apply the same analysis on men, also we can include more independent variables such as the passengers class or where they embarked. "
   ]
  },
  {
   "cell_type": "markdown",
   "metadata": {},
   "source": [
    "References:\n",
    "https://www.kaggle.com/c/titanic/details/getting-started-with-python\n"
   ]
  }
 ],
 "metadata": {
  "kernelspec": {
   "display_name": "Python 2",
   "language": "python",
   "name": "python2"
  },
  "language_info": {
   "codemirror_mode": {
    "name": "ipython",
    "version": 2
   },
   "file_extension": ".py",
   "mimetype": "text/x-python",
   "name": "python",
   "nbconvert_exporter": "python",
   "pygments_lexer": "ipython2",
   "version": "2.7.12"
  }
 },
 "nbformat": 4,
 "nbformat_minor": 0
}
